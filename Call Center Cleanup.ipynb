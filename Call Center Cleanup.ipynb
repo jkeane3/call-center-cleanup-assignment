{
 "cells": [
  {
   "cell_type": "markdown",
   "id": "458bdb75",
   "metadata": {},
   "source": [
    "# Call Center Cleanup\n",
    "\n",
    "For this assignment, we will be working with call center data. You can start working on the assignment after the first lesson on Exploratory Data Analysis. Make sure to read the whole assignment before starting anything! As you code along in the Jupyter notebook, you are asked to make note of the results of your analysis. Do so by clicking on the results box and adding your notes beside each question.\n",
    "\n",
    "## Business Issue and Understanding\n",
    "\n",
    "You are working for a company that has two call centers: the North Call Center and the South Call Center. The company is looking to possibly hire five additional reps to enhance customer experience. Your task is to explore how efficient the current reps are in each branch to determine which branch would benefit from additional assistance.\n",
    "\n",
    "### How the Call Center Works\n",
    "\n",
    "Call center representatives are assigned queues. When calls are assigned to a queue, the call is assigned to the next person in line in the queue. After a call is assigned to a representative, the amount of time between assignment and the call starting is divided into busy minutes and not ready minutes. If the call is incoming and a customer is waiting on the phone for a rep, the time is split into three categories: busy minutes, not ready minutes, and incoming call wait time. Once the rep has the customer on the phone, there might be during call wait time, where the call is put on hold while the rep gets an answer for the customer.\n",
    "\n",
    "### Notes about the Dataset\n",
    "\n",
    "If you haven't worked in a call center before, these notes might help you throughout your analysis.\n",
    "\n",
    "* The call purpose is tagged for each call.\n",
    "* The time of the call is tagged in 1 hour blocks starting at 9:00 AM and ending at 5:00 PM.\n",
    "* Calls are tagged as incoming or outgoing.\n",
    "* Reps are assigned to queues. When the reps are working, they take calls in the order of their queue.\n",
    "* A call that is dropped due to technical error or missed by the center because they have reached maximum capacity is a lost call.\n",
    "* An abandoned call is when the customer hangs up because they have been waiting for too long.\n",
    "* Busy Minutes: the amount of time after a call comes in or needs to go out where the assigned rep is not available because they are busy with other customers.\n",
    "* Not Ready Minutes: the amount of time after a call comes in or needs to go out where the assigned rep is not available because they are not ready (for example, getting water).\n",
    "* Incoming Wait Time - amount of time after assigned rep is available to take the call customer waits for representative to pick up a call. This is tracked in seconds.\n",
    "* During Call Wait Time - amount of time during call that customer has to wait for representative\n",
    "\n",
    "## Getting Started\n",
    "\n",
    "You have two CSVs at your disposal, `NorthCallCenter.csv` and `SouthCallCenter.csv`. Import the appropriate libraries and create two dataframes, one called `north_df` and one called `south_df`."
   ]
  },
  {
   "cell_type": "code",
   "execution_count": 3,
   "id": "49aada97",
   "metadata": {},
   "outputs": [
    {
     "name": "stdout",
     "output_type": "stream",
     "text": [
      "   Unnamed: 0 Branch     Call Purpose Time Block Incoming or Outgoing Queue  \\\n",
      "0           0  North        Complaint    9:00 AM             Incoming     B   \n",
      "1           1  North    Sales Support   11:00 AM             Incoming     A   \n",
      "2           2  North    Sales Support   11:00 AM             Incoming     B   \n",
      "3           3  North    Sales Support    4:00 PM             Incoming     B   \n",
      "4           4  North  Product Support   12:00 PM             Incoming     B   \n",
      "\n",
      "  Rep ID Sale  Lost Call  Abandoned  Busy Minutes  Not Ready Minutes  \\\n",
      "0  Brent   NO          0          1             9                  2   \n",
      "1    Cam   NO          0          0            11                  1   \n",
      "2   Todd   NO          0          0             9                  3   \n",
      "3  Brent   NO          0          0            11                  2   \n",
      "4  Brent   NO          0          0             8                  2   \n",
      "\n",
      "   Incoming Wait Time  During Call Wait Time  Calls  \n",
      "0                 1.0                      4      1  \n",
      "1                 1.0                      3      1  \n",
      "2                 1.0                      3      1  \n",
      "3                 1.0                      4      1  \n",
      "4                 1.0                      4      1  \n",
      "   Unnamed: 0 Branch   Call Purpose Time Block Incoming or Outgoing Queue  \\\n",
      "0           0  South  Sales Support   10:00 AM             Incoming     D   \n",
      "1           1  South  Sales Support   10:00 AM             Incoming     C   \n",
      "2           2  South  Sales Support   10:00 AM             Incoming     C   \n",
      "3           3  South  Sales Support   10:00 AM             Incoming     C   \n",
      "4           4  South  Sales Support   12:00 PM             Incoming     C   \n",
      "\n",
      "  Rep ID Sale  Lost Call  Abandoned  Busy Minutes  Not Ready Minutes  \\\n",
      "0   Kate   NO          0          0             9                  1   \n",
      "1   Eric   NO          0          0             8                  2   \n",
      "2  Susan   NO          0          0            10                  2   \n",
      "3  Alice   NO          0          0            12                  1   \n",
      "4  Sandy   NO          0          0             8                  3   \n",
      "\n",
      "   Incoming Wait Time  During Call Wait Time  Calls  \n",
      "0                 1.0                      2      1  \n",
      "1                 1.0                      4      1  \n",
      "2                 1.0                      4      1  \n",
      "3                 1.0                      3      1  \n",
      "4                 1.0                      3      1  \n"
     ]
    }
   ],
   "source": [
    "# Import the appropriate libraries\n",
    "import pandas as pd\n",
    "import numpy as np\n",
    "import seaborn as sns\n",
    "import matplotlib.pyplot as plt\n",
    "\n",
    "# Create two new dataframes\n",
    "north_df = pd.read_csv('NorthCallCenter.csv')\n",
    "south_df = pd.read_csv('SouthCallCenter.csv')\n",
    "\n",
    "# Look at first 5 rows of each df\n",
    "print(north_df.head(5))\n",
    "print(south_df.head(5))"
   ]
  },
  {
   "cell_type": "markdown",
   "id": "a644531e",
   "metadata": {},
   "source": [
    "## Exploratory Data Analysis\n",
    "\n",
    "Time to do some EDA! In the process of learning more about the two datasets, make sure you answer the following questions:\n",
    "\n",
    "1. How many reps are in each branch?\n",
    "2. What is the average busy minutes, not ready minutes, incoming wait time, and during call wait time for each branch?\n",
    "3. What is the number of calls taken for each time block?"
   ]
  },
  {
   "cell_type": "code",
   "execution_count": 22,
   "id": "05a06a1f",
   "metadata": {},
   "outputs": [
    {
     "name": "stdout",
     "output_type": "stream",
     "text": [
      "count       245\n",
      "unique        9\n",
      "top       Brent\n",
      "freq         37\n",
      "Name: Rep ID, dtype: object\n",
      "count      314\n",
      "unique      11\n",
      "top       Eric\n",
      "freq        35\n",
      "Name: Rep ID, dtype: object\n",
      "Unnamed: 0               122.000000\n",
      "Lost Call                  0.020408\n",
      "Abandoned                  0.028571\n",
      "Busy Minutes               9.987755\n",
      "Not Ready Minutes          1.914286\n",
      "Incoming Wait Time         3.048780\n",
      "During Call Wait Time      2.967347\n",
      "Calls                      1.000000\n",
      "dtype: float64\n",
      "Unnamed: 0               156.500000\n",
      "Lost Call                  0.035032\n",
      "Abandoned                  0.012739\n",
      "Busy Minutes              10.054140\n",
      "Not Ready Minutes          1.910828\n",
      "Incoming Wait Time         3.000000\n",
      "During Call Wait Time      3.076433\n",
      "Calls                      1.000000\n",
      "dtype: float64\n",
      "Time Block  Calls\n",
      "10:00 AM    1        43\n",
      "11:00 AM    1        25\n",
      "12:00 PM    1        45\n",
      "1:00 PM     1        17\n",
      "2:00 PM     1        35\n",
      "3:00 PM     1        30\n",
      "4:00 PM     1        28\n",
      "5:00 PM     1        17\n",
      "9:00 AM     1         5\n",
      "Name: Calls, dtype: int64\n",
      "Time Block  Calls\n",
      "10:00 AM    1        56\n",
      "11:00 AM    1        31\n",
      "12:00 PM    1        75\n",
      "1:00 PM     1        23\n",
      "2:00 PM     1        30\n",
      "3:00 PM     1        43\n",
      "4:00 PM     1        25\n",
      "5:00 PM     1        26\n",
      "9:00 AM     1         5\n",
      "Name: Calls, dtype: int64\n"
     ]
    }
   ],
   "source": [
    "# Put your EDA code here\n",
    "north_rep = north_df['Rep ID'].describe()\n",
    "print(north_rep)\n",
    "south_rep = south_df['Rep ID'].describe()\n",
    "print(south_rep)\n",
    "north_agg = north_df.agg('mean')\n",
    "print(north_agg)\n",
    "south_agg = south_df.agg('mean')\n",
    "print(south_agg)\n",
    "north_calls = north_df.groupby('Time Block')['Calls'].value_counts()\n",
    "print(north_calls)\n",
    "south_calls = south_df.groupby('Time Block')['Calls'].value_counts()\n",
    "print(south_calls)"
   ]
  },
  {
   "cell_type": "markdown",
   "id": "198da45b",
   "metadata": {},
   "source": [
    "### EDA Results\n",
    "\n",
    "Make note of your results here!\n",
    "\n",
    "1. How many reps are in each branch? \n",
    "9 in the North branch and 11 in the South branch\n",
    "2. What is the average busy minutes, not ready minutes, incoming wait time, and during call wait time for each branch?\n",
    "North- 9.99,1.91,3.05,2.97\n",
    "South- 10.05,1.91,3.00,3.08\n",
    "3. What is the number of calls taken for each time block?\n",
    "North- \n",
    "10:00 AM        43\n",
    "11:00 AM        25\n",
    "12:00 PM        45\n",
    "1:00 PM         17\n",
    "2:00 PM         35\n",
    "3:00 PM         30\n",
    "4:00 PM         28\n",
    "5:00 PM         17\n",
    "9:00 AM         5\n",
    "South-\n",
    "10:00 AM         56\n",
    "11:00 AM         31\n",
    "12:00 PM         75\n",
    "1:00 PM          23\n",
    "2:00 PM          30\n",
    "3:00 PM          43\n",
    "4:00 PM          25\n",
    "5:00 PM          26\n",
    "9:00 AM          5"
   ]
  },
  {
   "cell_type": "markdown",
   "id": "ec92db6c",
   "metadata": {},
   "source": [
    "## Cleaning Data\n",
    "\n",
    "Now you need to clean up the datasets. When cleaning the datasets, you may find that there isn't dirty data to clean. That is okay! Some questions you need to answer about the data sets:\n",
    "\n",
    "1. Incoming wait time is null in many places. Do all of those places correspond to outgoing calls?\n",
    "2. In the North data set, there are two separate \"YES\" values for a sale. Why and how did you rectify the issue?\n",
    "3. Are there duplicates in the two data sets? If there are, how did you handle them?\n",
    "4. Is any of the data in the two data sets unnecessary? If yes, how did you handle it?"
   ]
  },
  {
   "cell_type": "code",
   "execution_count": 173,
   "id": "b50cfa8a",
   "metadata": {},
   "outputs": [
    {
     "name": "stdout",
     "output_type": "stream",
     "text": [
      "Outgoing    163\n",
      "Name: Incoming or Outgoing, dtype: int64\n",
      "Outgoing    188\n",
      "Name: Incoming or Outgoing, dtype: int64\n",
      "NO     234\n",
      "YES     11\n",
      "Name: Sale, dtype: int64\n",
      "North: (245, 14)\n",
      "North without duplicates: (243, 14)\n",
      "South: (314, 14)\n",
      "South without duplicates: (311, 14)\n",
      "Index(['Branch', 'Call Purpose', 'Time Block', 'Incoming or Outgoing', 'Queue',\n",
      "       'Rep ID', 'Sale', 'Lost Call', 'Abandoned', 'Busy Minutes',\n",
      "       'Not Ready Minutes', 'Incoming Wait Time', 'During Call Wait Time',\n",
      "       'Calls'],\n",
      "      dtype='object')\n"
     ]
    }
   ],
   "source": [
    "# Clean your data here\n",
    "# Question 1: check incoming wait time null values\n",
    "incoming_north = north_df[north_df['Incoming Wait Time'].isnull()]\n",
    "incoming_north_calltype = incoming_north['Incoming or Outgoing'].value_counts()\n",
    "print(incoming_north_calltype)\n",
    "\n",
    "incoming_south = south_df[south_df['Incoming Wait Time'].isnull()]\n",
    "incoming_south_calltype = incoming_south['Incoming or Outgoing'].value_counts()\n",
    "print(incoming_south_calltype)\n",
    "\n",
    "# Question 2: Look at separate \"YES\" values for North data\n",
    "north_df['Sale'] = north_df['Sale'].str.replace('YES ','YES')\n",
    "print(north_df['Sale'].value_counts())\n",
    "\n",
    "# Question 3: Check for duplicates\n",
    "north_dedupped = north_df.drop_duplicates()\n",
    "print(\"North:\",north_df.shape)\n",
    "print(\"North without duplicates:\",north_dedupped.shape)\n",
    "south_dedupped = south_df.drop_duplicates()\n",
    "print(\"South:\",south_df.shape)\n",
    "print(\"South without duplicates:\",south_dedupped.shape)\n",
    "\n",
    "# Question 4: Unnecessary data\n",
    "north_df = north_df.drop(columns = 'Unnamed: 0')\n",
    "south_df = south_df.drop(columns = 'Unnamed: 0')\n",
    "print(south_df.columns)"
   ]
  },
  {
   "cell_type": "markdown",
   "id": "79e80da0",
   "metadata": {},
   "source": [
    "### Cleaning Data Results\n",
    "\n",
    "Make note of your results!\n",
    "\n",
    "1. Incoming wait time is null in many places. Do all of those places correspond to outgoing calls?\n",
    "Yes, they all correspond to outgoing calls.\n",
    "2. In the North data set, there are two separate \"YES\" values for a sale. Why and how did you rectify the issue?\n",
    "I replaced the 'YES ' with 'YES' so there would not be two different values for YES. \n",
    "3. Are there duplicates in the two data sets? If there are, how did you handle them? \n",
    "There are not any duplicates.\n",
    "4. Is any of the data in the two data sets unnecessary? If yes, how did you handle it?\n",
    "I dropped the first column \"Unnamed: 0\", since it was not necessary for the analyses."
   ]
  },
  {
   "cell_type": "markdown",
   "id": "4820fb7d",
   "metadata": {},
   "source": [
    "## Data Manipulation\n",
    "\n",
    "Before you begin answering any questions, combine the two datasets together to create a third dataframe called `df`. You can use this third dataframe to compare the two call centers to company-wide trends.\n",
    "\n",
    "1. Group by Rep ID and sum the resulting structure. Sort by calls to determine which rep in each branch has the highest number of calls.\n",
    "2. The average call abandonment rate is a KPI when it comes to determining call center efficiency. As you may recall, abandoned calls are calls where the customer hangs up due to long call times. What is the average call abandonment rate for each branch and the whole company? Do any of these fall out of the optimal range of 2-5%?\n",
    "3. Service level is another KPI when it comes to measuring call center efficiency. Service level is the percentage of calls answered within a specific number of seconds. In the case of your employer, their ideal time frame is 2 seconds. What is the percentage of calls answered within 2 seconds for each branch and the entire company?\n",
    "4. For each branch and the entire company, what is the average speed of answer?"
   ]
  },
  {
   "cell_type": "code",
   "execution_count": 74,
   "id": "ea8fe600",
   "metadata": {},
   "outputs": [
    {
     "name": "stdout",
     "output_type": "stream",
     "text": [
      "(559, 15)\n",
      "        Unnamed: 0  Lost Call  Abandoned  Busy Minutes  Not Ready Minutes  \\\n",
      "Rep ID                                                                      \n",
      "Brent         4840          0          1           362                 71   \n",
      "Lilly         3375          0          2           307                 59   \n",
      "Duke          2999          2          0           292                 56   \n",
      "Todd          4252          1          0           296                 58   \n",
      "Joe           3178          0          0           256                 49   \n",
      "\n",
      "        Incoming Wait Time  During Call Wait Time  Calls  \n",
      "Rep ID                                                    \n",
      "Brent                 17.0                    117     37  \n",
      "Lilly                 37.0                     88     30  \n",
      "Duke                  39.0                     85     29  \n",
      "Todd                  21.0                     97     29  \n",
      "Joe                   36.0                     81     26  \n",
      "        Unnamed: 0  Lost Call  Abandoned  Busy Minutes  Not Ready Minutes  \\\n",
      "Rep ID                                                                      \n",
      "Eric          5039          0          0           361                 54   \n",
      "Randy         4576          3          1           320                 66   \n",
      "Sandy         4694          1          0           325                 60   \n",
      "Helga         5236          0          2           292                 58   \n",
      "George        4620          0          0           298                 53   \n",
      "\n",
      "        Incoming Wait Time  During Call Wait Time  Calls  \n",
      "Rep ID                                                    \n",
      "Eric                  47.0                    112     35  \n",
      "Randy                 47.0                     98     33  \n",
      "Sandy                 34.0                    100     32  \n",
      "Helga                 36.0                     95     31  \n",
      "George                41.0                     87     29  \n",
      "2.857142857142857\n",
      "1.2738853503184715\n",
      "1.9677996422182469\n",
      "Incoming Wait Time    13.469388\n",
      "dtype: float64\n",
      "Incoming Wait Time    15.286624\n",
      "dtype: float64\n",
      "Incoming Wait Time    14.490161\n",
      "dtype: float64\n",
      "3.048780487804878\n",
      "3.0\n",
      "3.019230769230769\n"
     ]
    }
   ],
   "source": [
    "# Manipulate data here\n",
    "df = pd.concat([north_df, south_df])\n",
    "print(df.shape)\n",
    "dfs = [north_df, south_df,df]\n",
    "\n",
    "# Question 1: Determine which rep in each branch has the highest number of calls\n",
    "group_by_nrep = north_df.groupby('Rep ID').sum()\n",
    "highest_northrep = group_by_nrep.sort_values(by=['Calls'],ascending=False)\n",
    "print(highest_northrep.head(5))\n",
    "group_by_srep = south_df.groupby('Rep ID').sum()\n",
    "highest_southrep = group_by_srep.sort_values(by=['Calls'],ascending=False)\n",
    "print(highest_southrep.head(5))\n",
    "\n",
    "# Question 2: Avg abandoment rate for each branch and the whole company\n",
    "for dataframe in dfs:\n",
    "    abandonment = dataframe['Abandoned'].sum()\n",
    "    total_calls = dataframe['Calls'].sum()\n",
    "    abandonment_rate = (abandonment/total_calls)*100\n",
    "    print(abandonment_rate)\n",
    "    \n",
    "# Question 3: Percentage of answered calls within 2 seconds for each branch and the whole company\n",
    "for dataframe in dfs:\n",
    "    quick_ans = dataframe.loc[dataframe['Incoming Wait Time'] <= 2.0,['Incoming Wait Time']].count()\n",
    "    calls = dataframe['Calls'].sum()\n",
    "    quick_ans_pct = (quick_ans/calls)*100\n",
    "    print(quick_ans_pct)\n",
    "\n",
    "# Question 4: Avg speed of answer for each branch and the whole company\n",
    "for dataframe in dfs:\n",
    "    avg_answer_speed = dataframe['Incoming Wait Time'].mean()\n",
    "    print(avg_answer_speed)"
   ]
  },
  {
   "cell_type": "markdown",
   "id": "7719da42",
   "metadata": {},
   "source": [
    "### Data Manipulation Results\n",
    "\n",
    "1. Group by Rep ID and sum the resulting structure. Sort by calls to determine which rep in each branch has the highest number of calls.\n",
    "North: Brent\n",
    "South: Eric\n",
    "2. The average call abandonment rate is a KPI when it comes to determining call center efficiency. As you may recall, abandoned calls are calls where the customer hangs up due to long call times. What is the average call abandonment rate for each branch and the whole company? Do any of these fall out of the optimal range of 2-5%?\n",
    "North: 2.86%, South: 1.27%, Whole Company: 1.97%\n",
    "The South Branch and Whole Company abandonment rates are out of the optimal range, but they actually have a lower percentage of abandoned calls, which is good.\n",
    "3. Service level is another KPI when it comes to measuring call center efficiency. Service level is the percentage of calls answered within a specific number of seconds. In the case of your employer, their ideal time frame is 2 seconds. What is the percentage of calls answered within 2 seconds for each company and the entire company?\n",
    "North: 13.47%, South: 15.29%, Whole Company: 14.49%\n",
    "4. For each branch and the entire company, what is the average speed of answer?\n",
    "North: 3.05 s, South: 3.0 s, Whole Company: 3.02 s"
   ]
  },
  {
   "cell_type": "markdown",
   "id": "d816d6a2",
   "metadata": {},
   "source": [
    "## Visualization\n",
    "\n",
    "Create a visualization for each of the following questions. Some of the code to handle aggregating and storing data may be written for you. For each visualization, you choose the chart style that you feel suits the situation best. Make note of the chart style you chose and why.\n",
    "\n",
    "1. What is the average abandonment rate per queue?\n",
    "2. What is the service level and average speed of answer per each rep?\n",
    "3. For each type of call purpose, how many calls are outgoing vs. incoming?"
   ]
  },
  {
   "cell_type": "code",
   "execution_count": 127,
   "id": "5ce6b0f1",
   "metadata": {
    "scrolled": false
   },
   "outputs": [
    {
     "data": {
      "image/png": "[encoded data removed]",
      "text/plain": [
       "<Figure size 1440x720 with 1 Axes>"
      ]
     },
     "metadata": {
      "needs_background": "light"
     },
     "output_type": "display_data"
    }
   ],
   "source": [
    "# Create visualization 1 here\n",
    "# The dictionary abandonment_rates has the data you need.\n",
    "\n",
    "abandonment_rates = {}\n",
    "queues = [\"A\", \"B\", \"C\", \"D\"]\n",
    "queue_dict = df.groupby(\"Queue\").agg(\"sum\")\n",
    "for i in range(4):\n",
    "    abandonment_rates[queues[i]] = queue_dict[\"Abandoned\"][i] / queue_dict[\"Calls\"][i] \n",
    "\n",
    "keys = abandonment_rates.keys()\n",
    "values = abandonment_rates.values()\n",
    "plt.bar(keys,values)\n",
    "plt.title('Abandonment Rate per Queue')\n",
    "plt.xlabel('Queue')\n",
    "plt.ylabel('Abandonment Rate')\n",
    "plt.rcParams['figure.figsize'] = (20,10)"
   ]
  },
  {
   "cell_type": "code",
   "execution_count": 126,
   "id": "824943f3",
   "metadata": {},
   "outputs": [
    {
     "data": {
      "image/png": "[encoded data removed]",
      "text/plain": [
       "<Figure size 1440x720 with 1 Axes>"
      ]
     },
     "metadata": {
      "needs_background": "light"
     },
     "output_type": "display_data"
    }
   ],
   "source": [
    "# Create visualization 2 here\n",
    "# north_plt contains the data you need for the average speed of answer of each rep\n",
    "\n",
    "north_plt = north_df.groupby(\"Rep ID\")[\"Incoming Wait Time\"].mean().to_frame().reset_index()\n",
    "\n",
    "# Finding each Rep's Personal Service Level Percentage.  Basically, Calls within 2 secs / total calls\n",
    "\n",
    "# Table 1: Total Incoming calls less than 2 seconds grouped by Rep\n",
    "quick_calls = north_df[north_df[\"Incoming Wait Time\"] <= 2.0]\n",
    "quick_reps = quick_calls[[\"Rep ID\", \"Calls\"]]\n",
    "quick_stats = quick_reps.groupby([\"Rep ID\"]).sum()  # Final Table\n",
    "\n",
    "\n",
    "# Table 2: Total Incoming Calls Only grouped by Rep\n",
    "total_calls_in = north_df[north_df[\"Incoming or Outgoing\"] == \"Incoming\"]\n",
    "rep_calls = total_calls_in[[\"Rep ID\", \"Calls\"]]     \n",
    "total_stats = rep_calls.groupby([\"Rep ID\"]).sum() # Final Table  \n",
    "\n",
    "#  Table 3: Service Level Percentage created via merge\n",
    "service_level = pd.merge(quick_stats, total_stats, on=\"Rep ID\")\n",
    "\n",
    "# Create Percentage Column in Table 3\n",
    "service_level[\"Service Level %\"] = service_level[\"Calls_x\"]/service_level[\"Calls_y\"] * 100\n",
    "\n",
    "# print(north_plt)\n",
    "# print(service_level)\n",
    "width = 0.4\n",
    "x = np.arange(9)\n",
    "y1 = north_plt['Incoming Wait Time']\n",
    "y2 = service_level['Service Level %']\n",
    "plt.bar(x-0.2, y1, width)\n",
    "plt.bar(x+0.2, y2, width)\n",
    "plt.xticks(x,['Amanda','Andy','Brent','Cam','Duke','Joe','Lilly','Todd','Xander'])\n",
    "plt.legend(['Avg Speed of Answer','Service Level %'])\n",
    "plt.xlabel('Rep')\n",
    "plt.title('Avg Speed of Answer and Service Level % by Rep')\n",
    "plt.rcParams['figure.figsize'] = (20,10)"
   ]
  },
  {
   "cell_type": "code",
   "execution_count": 164,
   "id": "d3d77a58",
   "metadata": {},
   "outputs": [
    {
     "data": {
      "text/plain": [
       "Text(0.5, 1.0, 'Outgoing vs Incoming Calls by Call Purpose')"
      ]
     },
     "execution_count": 164,
     "metadata": {},
     "output_type": "execute_result"
    },
    {
     "data": {
      "image/png": "[encoded data removed]",
      "text/plain": [
       "<Figure size 1440x720 with 1 Axes>"
      ]
     },
     "metadata": {
      "needs_background": "light"
     },
     "output_type": "display_data"
    }
   ],
   "source": [
    "# Create visualization 3 here\n",
    "# The three dictionaries, complaints, sales_support, and product_support, have the information you need\n",
    "\n",
    "purpose_group = df.groupby(\"Call Purpose\")\n",
    "purpose_counts = purpose_group[\"Incoming or Outgoing\"].value_counts()\n",
    "complaints = purpose_counts[\"Complaint\"].to_dict()\n",
    "sales_support = purpose_counts[\"Sales Support\"].to_dict()\n",
    "product_support = purpose_counts[\"Product Support\"].to_dict()\n",
    "\n",
    "#print(purpose_counts.head(5))\n",
    "complaints['Call Purpose'] = 'Complaints'\n",
    "sales_support['Call Purpose'] = 'Sales Support'\n",
    "product_support['Call Purpose'] = 'Product Support'\n",
    "data = [complaints,sales_support,product_support]\n",
    "#print(list(sales_support.items()))\n",
    "\n",
    "viz3df = pd.DataFrame(columns=['Call Purpose','Incoming','Outgoing'],data=data)\n",
    "viz3df.plot.bar(x='Call Purpose',y=['Incoming','Outgoing'],stacked=True,  width = 0.4,alpha=0.5)\n",
    "plt.title('Outgoing vs Incoming Calls by Call Purpose')"
   ]
  },
  {
   "cell_type": "markdown",
   "id": "09d471fc",
   "metadata": {},
   "source": [
    "### Visualization Results\n",
    "\n",
    "For each chart you created, explain why you chose the chart style you chose.\n",
    "Visualization 1: I chose to create a bar plot because abandonment rate was being compared across the different queues.\n",
    "Visualization 2: I chose to create a grouped bar plot to look at both service level and avg speed of answer by rep. The lower avg speed results in a higher service level %, which makes sense.\n",
    "Visualization 3: I chose to create a stacked bar chart to compare the incoming and outgoing calls by call purpose. The incoming calls are blue and the outgoing calls are orange."
   ]
  },
  {
   "cell_type": "markdown",
   "id": "60770519",
   "metadata": {},
   "source": [
    "## Summarize Your Work\n",
    "\n",
    "With what you know now about the two call centers and the entire company, answer the following questions. Note that while this is subjective, you should include relevant data to back up your opinion.\n",
    "\n",
    "1. Using KPIs such as average abandonment rate, service level and average speed of answer, in your opinion, which one of the two branches is operating more efficiently? Why?\n",
    "The South Branch is operating more efficiently. The South Branch has a lower average abandonment rate of 1.27% compared to 2.86% for the North Branch. The South Branch also has a higher service level of 15.29% of calls answered within 2 seconds compared to the 13.47% of calls by the North Branch. The average speed of answer was comparable with 3.0 s at the South Branch compared to the 3.05 s at the North Branch.\n",
    "2. Based on the number of reps in each branch and how quickly the reps are working, in your opinion, which branch would benefit from the extra help?\n",
    "The North Branch would benefit from extra help because they have only 9 reps to the South Branch's 11. The KPI's discussed in the previous question also support the need for additional help at the North Branch.\n",
    "3. Now that you have explored the datasets, is there any data or information that you wish you had in this analysis?\n",
    "It would have been helpful to have more information about customer satisfaction after their calls, especially when they had longer wait times. This data could be used to help the reps alter their workflow."
   ]
  },
  {
   "cell_type": "markdown",
   "id": "76619a15",
   "metadata": {},
   "source": [
    "## Submit Your Work\n",
    "\n",
    "After you have completed your work on the assignment, push your work to your Github repo. Navigate to the repo, copy the link to your assignment and paste the URL in the Canvas assignment's submission box. "
   ]
  },
  {
   "cell_type": "markdown",
   "id": "cc90141d",
   "metadata": {},
   "source": [
    "## Bonus Mission\n",
    "\n",
    "Create a visualization that answers this question:\n",
    "\n",
    "1. For each call purpose, how many calls (incoming and outgoing) take place in each time block?"
   ]
  },
  {
   "cell_type": "code",
   "execution_count": null,
   "id": "e9d48ce7",
   "metadata": {},
   "outputs": [],
   "source": [
    "# Create your visualization here!\n",
    "call_times = df[[\"Time Block\", \"Call Purpose\", \"Incoming or Outgoing\", \"Calls\"]]\n",
    "\n",
    "# Use groupby to plot based on time blocks:\n",
    "\n",
    "# Use groupby and get_group to select which call purpose to plot:\n"
   ]
  }
 ],
 "metadata": {
  "kernelspec": {
   "display_name": "Python 3",
   "language": "python",
   "name": "python3"
  },
  "language_info": {
   "codemirror_mode": {
    "name": "ipython",
    "version": 3
   },
   "file_extension": ".py",
   "mimetype": "text/x-python",
   "name": "python",
   "nbconvert_exporter": "python",
   "pygments_lexer": "ipython3",
   "version": "3.8.8"
  }
 },
 "nbformat": 4,
 "nbformat_minor": 5
}
